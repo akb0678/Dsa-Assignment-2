{
 "cells": [
  {
   "cell_type": "code",
   "execution_count": null,
   "id": "a0eb7e5b",
   "metadata": {},
   "outputs": [],
   "source": [
    "# Take a number as input from the user. Print the number in reversed order. For example, for input 567, output should be: 765\n"
   ]
  },
  {
   "cell_type": "code",
   "execution_count": 1,
   "id": "1757cb66",
   "metadata": {},
   "outputs": [
    {
     "name": "stdout",
     "output_type": "stream",
     "text": [
      "Enter the Number:567\n",
      "765\n"
     ]
    }
   ],
   "source": [
    "#first approach\n",
    "num=int(input(\"Enter the Number:\"))\n",
    "print(str(num)[::-1])"
   ]
  },
  {
   "cell_type": "code",
   "execution_count": 2,
   "id": "93a75513",
   "metadata": {},
   "outputs": [
    {
     "name": "stdout",
     "output_type": "stream",
     "text": [
      "enter the number:567\n",
      "Reversed Number: 765\n"
     ]
    }
   ],
   "source": [
    "#second approach\n",
    "num=int(input(\"enter the number:\"))\n",
    "rev_num=0\n",
    "while num !=0:\n",
    "    digit = num%10\n",
    "    rev_num=rev_num*10+digit\n",
    "    num//=10\n",
    "print(\"Reversed Number: \"+str(rev_num))"
   ]
  },
  {
   "cell_type": "code",
   "execution_count": null,
   "id": "adfa1432",
   "metadata": {},
   "outputs": [],
   "source": []
  }
 ],
 "metadata": {
  "kernelspec": {
   "display_name": "Python 3 (ipykernel)",
   "language": "python",
   "name": "python3"
  },
  "language_info": {
   "codemirror_mode": {
    "name": "ipython",
    "version": 3
   },
   "file_extension": ".py",
   "mimetype": "text/x-python",
   "name": "python",
   "nbconvert_exporter": "python",
   "pygments_lexer": "ipython3",
   "version": "3.9.12"
  }
 },
 "nbformat": 4,
 "nbformat_minor": 5
}
