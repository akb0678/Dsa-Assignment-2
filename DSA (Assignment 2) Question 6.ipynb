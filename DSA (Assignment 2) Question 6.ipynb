{
 "cells": [
  {
   "cell_type": "code",
   "execution_count": null,
   "id": "38130312",
   "metadata": {},
   "outputs": [],
   "source": [
    "#Given an array of integers, find the length of the longest sub-sequence such that elements in the subsequence are consecutive integers, the consecutive numbers can be in any order."
   ]
  },
  {
   "cell_type": "code",
   "execution_count": 1,
   "id": "0052e926",
   "metadata": {},
   "outputs": [
    {
     "name": "stdout",
     "output_type": "stream",
     "text": [
      "Length of the Longest contiguous subsequence is 5\n"
     ]
    }
   ],
   "source": [
    "def findLongestConseqSubseq(arr, n):\n",
    " \n",
    "    ans = 0\n",
    "    count = 0\n",
    " \n",
    "   \n",
    "    arr.sort()\n",
    " \n",
    "    v = []\n",
    " \n",
    "    v.append(arr[0])\n",
    " \n",
    "    \n",
    "    for i in range(1, n):\n",
    "        if (arr[i] != arr[i - 1]):\n",
    "            v.append(arr[i])\n",
    " \n",
    "    for i in range(len(v)):\n",
    " \n",
    "       \n",
    "        if (i > 0 and v[i] == v[i - 1] + 1):\n",
    "            count += 1\n",
    " \n",
    "        \n",
    "        else:\n",
    "            count = 1\n",
    " \n",
    "        \n",
    "        ans = max(ans, count)\n",
    " \n",
    "    return ans\n",
    " \n",
    " \n",
    "\n",
    "arr = [36, 41, 56, 35, 44, 33, 34, 92, 43, 32, 42]\n",
    "n = len(arr)\n",
    " \n",
    "print(\"Length of the Longest contiguous subsequence is\",\n",
    "      findLongestConseqSubseq(arr, n))"
   ]
  },
  {
   "cell_type": "code",
   "execution_count": null,
   "id": "f6ee14c1",
   "metadata": {},
   "outputs": [],
   "source": []
  }
 ],
 "metadata": {
  "kernelspec": {
   "display_name": "Python 3 (ipykernel)",
   "language": "python",
   "name": "python3"
  },
  "language_info": {
   "codemirror_mode": {
    "name": "ipython",
    "version": 3
   },
   "file_extension": ".py",
   "mimetype": "text/x-python",
   "name": "python",
   "nbconvert_exporter": "python",
   "pygments_lexer": "ipython3",
   "version": "3.9.12"
  }
 },
 "nbformat": 4,
 "nbformat_minor": 5
}
