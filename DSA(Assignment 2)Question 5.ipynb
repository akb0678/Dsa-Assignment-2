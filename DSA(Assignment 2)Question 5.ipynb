{
 "cells": [
  {
   "cell_type": "code",
   "execution_count": null,
   "id": "d7de1c71",
   "metadata": {},
   "outputs": [],
   "source": [
    "#Given an array, cyclically rotate the array clockwise by one. "
   ]
  },
  {
   "cell_type": "code",
   "execution_count": 1,
   "id": "2c195a0c",
   "metadata": {},
   "outputs": [
    {
     "name": "stdout",
     "output_type": "stream",
     "text": [
      "Input array is\n",
      "1 2 3 4 5 \n",
      "Output array is\n",
      "5 1 2 3 4 "
     ]
    }
   ],
   "source": [
    "def rotate(arr, n):\n",
    "    x = arr[n - 1]\n",
    "     \n",
    "    for i in range(n - 1, 0, -1):\n",
    "        arr[i] = arr[i - 1];\n",
    "         \n",
    "    arr[0] = x;\n",
    " \n",
    " \n",
    "\n",
    "arr= [1, 2, 3, 4, 5]\n",
    "n = len(arr)\n",
    "print (\"Input array is\")\n",
    "for i in range(0, n):\n",
    "    print (arr[i], end = ' ')\n",
    " \n",
    "rotate(arr, n)\n",
    " \n",
    "print (\"\\nOutput array is\")\n",
    "for i in range(0, n):\n",
    "    print (arr[i], end = ' ')"
   ]
  },
  {
   "cell_type": "code",
   "execution_count": null,
   "id": "8e6e1155",
   "metadata": {},
   "outputs": [],
   "source": []
  }
 ],
 "metadata": {
  "kernelspec": {
   "display_name": "Python 3 (ipykernel)",
   "language": "python",
   "name": "python3"
  },
  "language_info": {
   "codemirror_mode": {
    "name": "ipython",
    "version": 3
   },
   "file_extension": ".py",
   "mimetype": "text/x-python",
   "name": "python",
   "nbconvert_exporter": "python",
   "pygments_lexer": "ipython3",
   "version": "3.9.12"
  }
 },
 "nbformat": 4,
 "nbformat_minor": 5
}
