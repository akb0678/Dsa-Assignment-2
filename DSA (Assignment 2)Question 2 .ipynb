{
 "cells": [
  {
   "cell_type": "code",
   "execution_count": null,
   "id": "38296b15",
   "metadata": {},
   "outputs": [],
   "source": [
    "#Write a Python Program to print full pyramid using '*' symbol. The pattern should be as shown below:\n",
    "\n",
    "# *\n",
    "\n",
    "#* * *\n",
    "\n",
    "#* * * * *\n",
    "\n",
    "#* * * * * * *\n",
    "\n",
    "#* * * * * * * * *"
   ]
  },
  {
   "cell_type": "code",
   "execution_count": 1,
   "id": "036d2689",
   "metadata": {},
   "outputs": [
    {
     "name": "stdout",
     "output_type": "stream",
     "text": [
      "* \n",
      "* * * \n",
      "* * * * * \n",
      "* * * * * * * \n",
      "* * * * * * * * * \n"
     ]
    }
   ],
   "source": [
    "def pattern(k):\n",
    "    for i in range (5):\n",
    "        for j in range(k):\n",
    "            print(\"*\", end=\" \")\n",
    "        k=k + 2\n",
    "        print()\n",
    "k=1\n",
    "pattern(k)"
   ]
  },
  {
   "cell_type": "code",
   "execution_count": null,
   "id": "450f46a0",
   "metadata": {},
   "outputs": [],
   "source": []
  }
 ],
 "metadata": {
  "kernelspec": {
   "display_name": "Python 3 (ipykernel)",
   "language": "python",
   "name": "python3"
  },
  "language_info": {
   "codemirror_mode": {
    "name": "ipython",
    "version": 3
   },
   "file_extension": ".py",
   "mimetype": "text/x-python",
   "name": "python",
   "nbconvert_exporter": "python",
   "pygments_lexer": "ipython3",
   "version": "3.9.12"
  }
 },
 "nbformat": 4,
 "nbformat_minor": 5
}
