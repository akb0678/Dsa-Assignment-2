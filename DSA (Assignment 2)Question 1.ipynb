{
 "cells": [
  {
   "cell_type": "code",
   "execution_count": null,
   "id": "6093e041",
   "metadata": {},
   "outputs": [],
   "source": [
    "#Write a Python Program to print half pyramid using alphabets. The pattern should be as shown below:\n",
    "\n",
    "#A\n",
    "\n",
    "#B B\n",
    "\n",
    "#C C C\n",
    "\n",
    "#D D D D\n",
    "\n",
    "#E E E E E"
   ]
  },
  {
   "cell_type": "code",
   "execution_count": 1,
   "id": "dcb58c30",
   "metadata": {},
   "outputs": [
    {
     "name": "stdout",
     "output_type": "stream",
     "text": [
      "A \r\n",
      "B B \r\n",
      "C C C \r\n",
      "D D D D \r\n",
      "E E E E E \r\n"
     ]
    }
   ],
   "source": [
    "def alphabet(n):\n",
    "    num = 65\n",
    "    for i in range(0,n):\n",
    "        for j in range(0,i+1):\n",
    "            ch=chr(num)\n",
    "            print(ch, end=\" \")\n",
    "        num=num+1\n",
    "        print(\"\\r\")\n",
    "            \n",
    "n=5\n",
    "alphabet(n)\n",
    "        "
   ]
  },
  {
   "cell_type": "code",
   "execution_count": null,
   "id": "8b6841d3",
   "metadata": {},
   "outputs": [],
   "source": []
  }
 ],
 "metadata": {
  "kernelspec": {
   "display_name": "Python 3 (ipykernel)",
   "language": "python",
   "name": "python3"
  },
  "language_info": {
   "codemirror_mode": {
    "name": "ipython",
    "version": 3
   },
   "file_extension": ".py",
   "mimetype": "text/x-python",
   "name": "python",
   "nbconvert_exporter": "python",
   "pygments_lexer": "ipython3",
   "version": "3.9.12"
  }
 },
 "nbformat": 4,
 "nbformat_minor": 5
}
