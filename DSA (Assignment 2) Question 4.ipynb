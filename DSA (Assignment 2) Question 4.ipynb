{
 "cells": [
  {
   "cell_type": "code",
   "execution_count": null,
   "id": "68fdff7f",
   "metadata": {},
   "outputs": [],
   "source": [
    "#Given an array arr[] of integers. Find a peak element i.e. an element that is not smaller than its neighbors. "
   ]
  },
  {
   "cell_type": "code",
   "execution_count": 1,
   "id": "02e244c5",
   "metadata": {},
   "outputs": [
    {
     "name": "stdout",
     "output_type": "stream",
     "text": [
      "20\n",
      "90\n"
     ]
    }
   ],
   "source": [
    "x=[10,20,15,2,23,90,67]\n",
    "def peak(x):\n",
    "    for i in range(1,len(x)):\n",
    "        if x[i]>x[i-1]:\n",
    "            if x[i]==x[len(x)-1]:\n",
    "                pass\n",
    "            elif x[i]>x[i+1]:\n",
    "                print(x[i])\n",
    "peak(x)"
   ]
  },
  {
   "cell_type": "code",
   "execution_count": null,
   "id": "37366851",
   "metadata": {},
   "outputs": [],
   "source": []
  }
 ],
 "metadata": {
  "kernelspec": {
   "display_name": "Python 3 (ipykernel)",
   "language": "python",
   "name": "python3"
  },
  "language_info": {
   "codemirror_mode": {
    "name": "ipython",
    "version": 3
   },
   "file_extension": ".py",
   "mimetype": "text/x-python",
   "name": "python",
   "nbconvert_exporter": "python",
   "pygments_lexer": "ipython3",
   "version": "3.9.12"
  }
 },
 "nbformat": 4,
 "nbformat_minor": 5
}
